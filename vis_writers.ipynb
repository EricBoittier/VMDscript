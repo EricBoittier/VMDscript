{
 "cells": [
  {
   "cell_type": "code",
   "execution_count": 13,
   "metadata": {},
   "outputs": [],
   "source": [
    "cube_file_template = \"\"\"mol new {filename} psf first 0 last -1 step 1 filebonds 1 autobonds 1 wait for all \n",
    "mol delrep 0 top\n",
    "mol representation CPK 0.500000 0.2000000 10.000000 10.000000\n",
    "#mol representation Licorice\n",
    "mol material AOChalky\n",
    "mol addrep top\n",
    "\"\"\"\n",
    "\n",
    "mdcm_file_template = \"\"\"mol new {filename} psf first 0 last -1 step 1 filebonds 1 autobonds 1 wait for all \n",
    "mol delrep 0 top\n",
    "mol representation CPK 0.300000 0.300000 0.000000 0.000000\n",
    "mol material AOChalky\n",
    "mol addrep top\n",
    "\n",
    "\"\"\"\n",
    "\n",
    "cube_file_with_ESP = \"\"\"mol new {p_filename} type cube first 0 last -1 step 1 filebonds 1 autobonds 1 waitfor all\n",
    "mol addfile {d_filename} type cube first 0 last -1 step 1\n",
    "filebonds 1 autobonds 1 waitfor all\n",
    "mol delrep 0 top\n",
    "mol representation CPK 0.500000 0.2000000 10.000000 10.000000\n",
    "mol color Name\n",
    "mol material AOChalky\n",
    "mol addrep top\n",
    "mol selupdate 0 top 0\n",
    "mol colupdate 0 top 0\n",
    "mol scaleminmax top 0 0.000000 0.000000\n",
    "mol smoothrep top 0 0\n",
    "mol representation Isosurface 0.001000 1 0 0 1 1\n",
    "mol color Volume 0\n",
    "mol material AOChalky\n",
    "mol addrep top\n",
    "mol selupdate 1 top 0\n",
    "mol colupdate 1 top 0\n",
    "mol scaleminmax top 1 {neg_scale} {scale}\n",
    "mol smoothrep top 1 0\n",
    "mol drawframes top 1 {{now}}\n",
    "\"\"\"\n",
    "\n",
    "render_template = \"\"\"display projection orthographic\n",
    "render aasamples TachyonInternal 64 ;\n",
    "render TachyonInternal {filename}.tga\n",
    "exit;\"\"\"\n",
    "\n",
    "# \"\"\"display projection orthographic\n",
    "# render aasamples TachyonLOptiXInternal 128 ;\n",
    "# render TachyonLOptiXInternal test.png ; #Does the actual rendering \n",
    "# exit; \"\"\"\n",
    "\n",
    "\n",
    "def make_mdcm_vis_script(mdcm_filename, cube_filename, vis_filename):\n",
    "    standard_template = open(\"vmd_standard.template\").read()\n",
    "    output = open(vis_filename, \"w\")\n",
    "    output.write(mdcm_file_template.format(filename=mdcm_filename))\n",
    "    output.write(cube_file_template.format(filename=cube_filename))\n",
    "    output.write(standard_template)\n",
    "    output.write(render_template.format(filename=vis_filename.split(\"/\")[-1]))\n",
    "    output.close()\n",
    "    \n",
    "def make_esp_vis_script(pcube_filename, dcube_filename, vis_filename, scale):\n",
    "    standard_template = open(\"vmd_standard.template\").read()\n",
    "    output = open(vis_filename, \"w\")\n",
    "    output.write(cube_file_with_ESP.format(p_filename=pcube_filename, d_filename=dcube_filename, scale=scale, neg_scale=-scale))\n",
    "    output.write(standard_template)\n",
    "    output.write(render_template.format(filename=vis_filename.split(\"/\")[-1]))\n",
    "    output.close()\n",
    "    \n",
    "    \n",
    "mdcm = \"../FDCM/fbuta/2_final/refined.xyz\"\n",
    "cube = \"../FDCM/cubes/3_SCAN_1_2_3_4_F/B.p.cube\"\n",
    "vis = \"fit_fbuta_2_final.vmd\"\n",
    "make_mdcm_vis_script(mdcm, cube, vis)\n",
    "\n",
    "    \n",
    "pcube = \"../pydcm/acrolein-min/ref/L.p.cube\"\n",
    "dcube = \"../pydcm/acrolein-min/6-analysis/23-charges/error.cube\"\n",
    "vis = \"pot_vis.vmd\"\n",
    "make_esp_vis_script(pcube, dcube, vis, 5)\n"
   ]
  },
  {
   "cell_type": "code",
   "execution_count": 14,
   "metadata": {},
   "outputs": [],
   "source": [
    "mdcm = \"/home/boittier/Documents/PhD/FDCM/acrolein/0_1/1_final.xyz\"\n",
    "cube = \"/home/boittier/Documents/PhD/FDCM/cube_files/acrolein/1_SCAN_1_2_6_8_F/O.p.cube\"\n",
    "vis = \"acrolein/acrolein_1.vmd\"\n",
    "make_mdcm_vis_script(mdcm, cube, vis)"
   ]
  },
  {
   "cell_type": "code",
   "execution_count": 15,
   "metadata": {},
   "outputs": [],
   "source": [
    "mdcm = \"/home/boittier/Documents/PhD/FDCM/23_charges_refined.xyz\"\n",
    "cube = \"/home/boittier/Documents/PhD/FDCM/cube_files/acrolein/1_SCAN_1_2_3_4_F/L.p.cube\"\n",
    "vis = \"acrolein_1.vmd\"\n",
    "make_mdcm_vis_script(mdcm, cube, vis)"
   ]
  },
  {
   "cell_type": "code",
   "execution_count": 16,
   "metadata": {},
   "outputs": [],
   "source": [
    "for i in range(16):\n",
    "    j=i+1\n",
    "    mdcm = f\"/home/boittier/Documents/FDCM/acrolein/{i}_{j}/{j}_aligned_charges.xyz\"\n",
    "    cube = f\"/home/boittier/Documents/FDCM/acrolein/{i}_{j}/{j}_aligned_molecule.xyz\"\n",
    "    vis = f\"acrolein/acrolein_{j}.vmd\"\n",
    "    make_mdcm_vis_script(mdcm, cube, vis)"
   ]
  },
  {
   "cell_type": "code",
   "execution_count": 17,
   "metadata": {},
   "outputs": [],
   "source": [
    "for i in range(17):\n",
    "    j=i+1\n",
    "    mdcm = f\"/home/boittier/Documents/PhD/FDCM/ester/{i}_{j}/refined.xyz\"\n",
    "    cube = f\"/home/boittier/Documents/PhD/FDCM/cube_files/ester/{j}_SCAN_1_2_6_8_F/O.p.cube\"\n",
    "    vis = f\"ester_{j}.vmd\"\n",
    "    make_mdcm_vis_script(mdcm, cube, vis)"
   ]
  },
  {
   "cell_type": "code",
   "execution_count": 18,
   "metadata": {},
   "outputs": [],
   "source": [
    "for i in range(17):\n",
    "    j=i+1\n",
    "    mdcm = f\"/home/boittier/Documents/PhD/FDCM/fbutone/{i}_{j}/refined.xyz\"\n",
    "    cube = f\"/home/boittier/Documents/PhD/FDCM/cube_files/fbutone/{j}_SCAN_1_2_6_8_F/N.p.cube\"\n",
    "    vis = f\"fbutone_{j}.vmd\"\n",
    "    make_mdcm_vis_script(mdcm, cube, vis)"
   ]
  },
  {
   "cell_type": "code",
   "execution_count": null,
   "metadata": {},
   "outputs": [],
   "source": []
  }
 ],
 "metadata": {
  "kernelspec": {
   "display_name": "Python 3",
   "language": "python",
   "name": "python3"
  },
  "language_info": {
   "codemirror_mode": {
    "name": "ipython",
    "version": 3
   },
   "file_extension": ".py",
   "mimetype": "text/x-python",
   "name": "python",
   "nbconvert_exporter": "python",
   "pygments_lexer": "ipython3",
   "version": "3.8.3"
  }
 },
 "nbformat": 4,
 "nbformat_minor": 5
}
