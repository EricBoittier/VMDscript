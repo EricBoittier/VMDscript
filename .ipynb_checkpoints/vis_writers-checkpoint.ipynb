{
 "cells": [
  {
   "cell_type": "code",
   "execution_count": 2,
   "id": "cd702d05-7e6a-4a54-8313-c219cc668617",
   "metadata": {},
   "outputs": [],
   "source": [
    "cube_file_template = \"\"\"mol new {filename} psf first 0 last -1 step 1 filebonds 1 autobonds 1 wait for all \n",
    "mol delrep 0 top\n",
    "mol representation CPK 0.500000 0.2000000 10.000000 10.000000\n",
    "#mol representation Licorice\n",
    "mol material AOChalky\n",
    "mol addrep top\n",
    "\"\"\"\n",
    "\n",
    "mdcm_file_template = \"\"\"mol new {filename} psf first 0 last -1 step 1 filebonds 1 autobonds 1 wait for all \n",
    "mol delrep 0 top\n",
    "mol representation CPK 0.300000 0.300000 0.000000 0.000000\n",
    "mol material AOChalky\n",
    "mol addrep top\n",
    "\n",
    "\"\"\"\n",
    "\n",
    "def make_mdcm_vis_script(mdcm_filename, cube_filename, vis_filename):\n",
    "    standard_template = open(\"vmd_standard.template\").read()\n",
    "    output = open(vis_filename, \"w\")\n",
    "    output.write(mdcm_file_template.format(filename=mdcm_filename))\n",
    "    output.write(cube_file_template.format(filename=cube_filename))\n",
    "    output.write(standard_template)\n",
    "    output.close()\n",
    "    \n",
    "mdcm = \"../FDCM/fbuta/1_final/refined.xyz\"\n",
    "cube = \"../FDCM/cubes/1_SCAN_1_2_3_4_F/B.p.cube\"\n",
    "vis = \"fit_fbuta_1_final.vmd\"\n",
    "\n",
    "make_mdcm_vis_script(mdcm, cube, vis)\n",
    "\n",
    "\n"
   ]
  },
  {
   "cell_type": "code",
   "execution_count": null,
   "id": "7fccf6f0-4e50-49d9-8210-4a0e427764d2",
   "metadata": {},
   "outputs": [],
   "source": []
  }
 ],
 "metadata": {
  "kernelspec": {
   "display_name": "Python 3",
   "language": "python",
   "name": "python3"
  },
  "language_info": {
   "codemirror_mode": {
    "name": "ipython",
    "version": 3
   },
   "file_extension": ".py",
   "mimetype": "text/x-python",
   "name": "python",
   "nbconvert_exporter": "python",
   "pygments_lexer": "ipython3",
   "version": "3.9.1"
  }
 },
 "nbformat": 4,
 "nbformat_minor": 5
}
